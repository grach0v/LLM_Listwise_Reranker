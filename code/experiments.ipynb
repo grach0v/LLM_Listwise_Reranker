{
 "cells": [
  {
   "cell_type": "code",
   "execution_count": 1,
   "metadata": {},
   "outputs": [],
   "source": [
    "import os\n",
    "from indexer import clone_repo, build_index, query_index\n",
    "\n",
    "# Clone the repository if not present\n",
    "repo_url = 'https://github.com/viarotel-org/escrcpy'\n",
    "repo_folder = '../data/escrcpy'\n",
    "if not os.path.exists(repo_folder):\n",
    "    clone_repo(repo_url, repo_folder)"
   ]
  },
  {
   "cell_type": "code",
   "execution_count": 2,
   "metadata": {},
   "outputs": [
    {
     "ename": "SyntaxError",
     "evalue": "invalid syntax (evaluate.py, line 21)",
     "output_type": "error",
     "traceback": [
      "Traceback \u001b[36m(most recent call last)\u001b[39m:\n",
      "  File \u001b[92m~/miniconda3/envs/jb/lib/python3.13/site-packages/IPython/core/interactiveshell.py:3549\u001b[39m in \u001b[95mrun_code\u001b[39m\n    exec(code_obj, self.user_global_ns, self.user_ns)\n",
      "\u001b[36m  \u001b[39m\u001b[36mCell\u001b[39m\u001b[36m \u001b[39m\u001b[32mIn[2]\u001b[39m\u001b[32m, line 1\u001b[39m\n\u001b[31m    \u001b[39m\u001b[31mfrom evaluate import load_evaluation_data, evaluate\u001b[39m\n",
      "  \u001b[36mFile \u001b[39m\u001b[32m~/Documents/LLM_Listwise_Reranker/code/evaluate.py:21\u001b[39m\n\u001b[31m    \u001b[39m\u001b[31mrecall_at_10 = hit_count / total if > 0 else 0\u001b[39m\n                                        ^\n\u001b[31mSyntaxError\u001b[39m\u001b[31m:\u001b[39m invalid syntax\n"
     ]
    }
   ],
   "source": [
    "from evaluate import load_evaluation_data, evaluate"
   ]
  },
  {
   "cell_type": "code",
   "execution_count": null,
   "metadata": {},
   "outputs": [
    {
     "name": "stdout",
     "output_type": "stream",
     "text": [
      "Found 346 candidate files.\n"
     ]
    },
    {
     "name": "stderr",
     "output_type": "stream",
     "text": [
      "No sentence-transformers model found with name microsoft/graphcodebert-base. Creating a new one with mean pooling.\n",
      "Some weights of RobertaModel were not initialized from the model checkpoint at microsoft/graphcodebert-base and are newly initialized: ['roberta.pooler.dense.bias', 'roberta.pooler.dense.weight']\n",
      "You should probably TRAIN this model on a down-stream task to be able to use it for predictions and inference.\n"
     ]
    },
    {
     "name": "stdout",
     "output_type": "stream",
     "text": [
      "Recall@10: 0.00\n"
     ]
    }
   ],
   "source": [
    "eval_filepath = '../data/escrcpy-commits-generated.json'  # updated file path\n",
    "if os.path.exists(eval_filepath):\n",
    "    data = load_evaluation_data(eval_filepath)\n",
    "    evaluate(repo_folder, data)\n",
    "else:\n",
    "    print(f'No evaluation data file found at {eval_filepath}.')"
   ]
  },
  {
   "cell_type": "code",
   "execution_count": null,
   "metadata": {},
   "outputs": [],
   "source": [
    "for item in data:\n",
    "    # Updated key access: use 'question' and 'files'\n",
    "    query = item.get('question')\n",
    "    expected_files = set(item.get('files', []))\n",
    "\n",
    "    if query is None:\n",
    "        print('Skipping item without question:', item)\n",
    "        continue"
   ]
  },
  {
   "cell_type": "code",
   "execution_count": null,
   "metadata": {},
   "outputs": [],
   "source": []
  }
 ],
 "metadata": {
  "kernelspec": {
   "display_name": "jb",
   "language": "python",
   "name": "python3"
  },
  "language_info": {
   "codemirror_mode": {
    "name": "ipython",
    "version": 3
   },
   "file_extension": ".py",
   "mimetype": "text/x-python",
   "name": "python",
   "nbconvert_exporter": "python",
   "pygments_lexer": "ipython3",
   "version": "3.13.2"
  }
 },
 "nbformat": 4,
 "nbformat_minor": 2
}
