{
 "cells": [
  {
   "cell_type": "code",
   "execution_count": 1,
   "metadata": {},
   "outputs": [],
   "source": [
    "%load_ext autoreload\n",
    "%autoreload 2"
   ]
  },
  {
   "cell_type": "code",
   "execution_count": 2,
   "metadata": {},
   "outputs": [],
   "source": [
    "import os\n",
    "from indexer import clone_repo, build_index, query_index\n",
    "\n",
    "# Clone the repository if not present\n",
    "repo_url = 'https://github.com/viarotel-org/escrcpy'\n",
    "repo_folder = '../data/escrcpy'\n",
    "if not os.path.exists(repo_folder):\n",
    "    clone_repo(repo_url, repo_folder)"
   ]
  },
  {
   "cell_type": "code",
   "execution_count": 3,
   "metadata": {},
   "outputs": [],
   "source": [
    "from evaluate import load_evaluation_data, evaluate"
   ]
  },
  {
   "cell_type": "code",
   "execution_count": 4,
   "metadata": {},
   "outputs": [],
   "source": [
    "eval_filepath = '../data/escrcpy-commits-generated.json'\n",
    "data = load_evaluation_data(eval_filepath)"
   ]
  },
  {
   "cell_type": "code",
   "execution_count": 5,
   "metadata": {},
   "outputs": [],
   "source": [
    "# eval_filepath = '../data/escrcpy-commits-generated.json'\n",
    "# if os.path.exists(eval_filepath):\n",
    "#     data = load_evaluation_data(eval_filepath)\n",
    "#     evaluate(repo_folder, data)\n",
    "# else:\n",
    "#     print(f'No evaluation data file found at {eval_filepath}.')"
   ]
  },
  {
   "cell_type": "code",
   "execution_count": 16,
   "metadata": {},
   "outputs": [
    {
     "name": "stdout",
     "output_type": "stream",
     "text": [
      "Found 211 files.\n"
     ]
    },
    {
     "name": "stderr",
     "output_type": "stream",
     "text": [
      "No sentence-transformers model found with name microsoft/graphcodebert-base. Creating a new one with mean pooling.\n",
      "huggingface/tokenizers: The current process just got forked, after parallelism has already been used. Disabling parallelism to avoid deadlocks...\n",
      "To disable this warning, you can either:\n",
      "\t- Avoid using `tokenizers` before the fork if possible\n",
      "\t- Explicitly set the environment variable TOKENIZERS_PARALLELISM=(true | false)\n",
      "Some weights of RobertaModel were not initialized from the model checkpoint at microsoft/graphcodebert-base and are newly initialized: ['roberta.pooler.dense.bias', 'roberta.pooler.dense.weight']\n",
      "You should probably TRAIN this model on a down-stream task to be able to use it for predictions and inference.\n"
     ]
    },
    {
     "name": "stdout",
     "output_type": "stream",
     "text": [
      "Created 275 chunks.\n"
     ]
    }
   ],
   "source": [
    "extensions = [\n",
    "    '1', \n",
    "    'CN', \n",
    "    'LICENSE', \n",
    "    'js', \n",
    "    'json', \n",
    "    'md', \n",
    "    'npmrc', \n",
    "    'nvmdrc', \n",
    "    'vue', \n",
    "    'yml',\n",
    "]\n",
    "\n",
    "chunk_to_file, embeddings, model = build_index(repo_folder, extensions)"
   ]
  },
  {
   "cell_type": "code",
   "execution_count": 18,
   "metadata": {},
   "outputs": [],
   "source": [
    "total = len(data)\n",
    "hit_count = 0\n",
    "for item in data:\n",
    "    query = item.get('question')\n",
    "    expected_files = item.get('files', [])\n",
    "    expected_files = set([os.path.join(repo_folder, file) for file in expected_files])\n",
    "    \n",
    "    ret_files = set(query_index(query, embeddings, model, chunk_to_file))\n",
    "    \n",
    "    if expected_files.intersection(ret_files):\n",
    "        hit_count += 1\n",
    "recall_at_10 = hit_count / total if total > 0 else 0"
   ]
  },
  {
   "cell_type": "code",
   "execution_count": 19,
   "metadata": {},
   "outputs": [
    {
     "data": {
      "text/plain": [
       "0.17647058823529413"
      ]
     },
     "execution_count": 19,
     "metadata": {},
     "output_type": "execute_result"
    }
   ],
   "source": [
    "recall_at_10"
   ]
  },
  {
   "cell_type": "code",
   "execution_count": 9,
   "metadata": {},
   "outputs": [],
   "source": [
    "for item in data:\n",
    "    query = item.get('question')\n",
    "    expected_files = item.get('files', [])\n",
    "    expected_files = set([os.path.join(repo_folder, file) for file in expected_files])\n",
    "    \n",
    "    ret_files = set(query_index(query, embeddings, model, chunk_to_file))\n",
    "\n",
    "    break"
   ]
  },
  {
   "cell_type": "code",
   "execution_count": 10,
   "metadata": {},
   "outputs": [
    {
     "data": {
      "text/plain": [
       "({'../data/escrcpy/src/components/PreferenceForm/components/SelectDisplay/index.vue'},\n",
       " {'../data/escrcpy/PRIVACY.md',\n",
       "  '../data/escrcpy/README.md',\n",
       "  '../data/escrcpy/electron/resources/extra/linux/scrcpy/scrcpy.1',\n",
       "  '../data/escrcpy/electron/resources/extra/mac-arm64/scrcpy/scrcpy.1',\n",
       "  '../data/escrcpy/electron/resources/extra/mac-x64/scrcpy/scrcpy.1'})"
      ]
     },
     "execution_count": 10,
     "metadata": {},
     "output_type": "execute_result"
    }
   ],
   "source": [
    "expected_files, ret_files"
   ]
  },
  {
   "cell_type": "code",
   "execution_count": 15,
   "metadata": {},
   "outputs": [
    {
     "name": "stdout",
     "output_type": "stream",
     "text": [
      "src/components/PreferenceForm/components/SelectDisplay/index.vue vue How does the SelectDisplay component handle the device options when retrieving display IDs?\n",
      "electron/exposes/adb/helpers/index.js js How does the repository handle IPv6 addresses in ADB commands?\n",
      "README-CN.md md Unable to detect device\n",
      "src/locales/languages/zh-TW.json json What are the common user interface labels and messages implemented in Traditional Chinese?\n",
      ".github/workflows/release-assets.yml yml What workflows support manual triggering in the repository?\n",
      ".nvmdrc nvmdrc What is the purpose of the configuration specified in the version management file?\n",
      ".npmrc.CN CN What configuration should domestic users apply to resolve dependency installation issues?\n",
      ".npmrc npmrc How is the configuration for resolving dependency installation issues specified in the project?\n",
      "LICENSE LICENSE What license terms and conditions govern the usage, reproduction, and distribution of the repository?\n",
      "electron/resources/extra/linux/scrcpy/scrcpy.1 1 Which file or module is responsible for mapping user shortcuts (for device control actions like home, back, screenshot, etc.) to the underlying adb or scrcpy commands, and how can these mappings be customized?\n"
     ]
    },
    {
     "data": {
      "text/plain": [
       "{'1', 'CN', 'LICENSE', 'js', 'json', 'md', 'npmrc', 'nvmdrc', 'vue', 'yml'}"
      ]
     },
     "execution_count": 15,
     "metadata": {},
     "output_type": "execute_result"
    }
   ],
   "source": [
    "extensions = set()\n",
    "for item in data:\n",
    "    expected_files = item.get('files', [])\n",
    "    for file in expected_files:\n",
    "        ext =file.split('.')[-1]\n",
    "\n",
    "        if ext not in extensions:\n",
    "            print(file, ext, item.get('question'))\n",
    "\n",
    "        extensions.add(ext)\n",
    "\n",
    "extensions"
   ]
  },
  {
   "cell_type": "code",
   "execution_count": null,
   "metadata": {},
   "outputs": [],
   "source": []
  },
  {
   "cell_type": "code",
   "execution_count": null,
   "metadata": {},
   "outputs": [],
   "source": []
  },
  {
   "cell_type": "code",
   "execution_count": null,
   "metadata": {},
   "outputs": [],
   "source": []
  }
 ],
 "metadata": {
  "kernelspec": {
   "display_name": "jb",
   "language": "python",
   "name": "python3"
  },
  "language_info": {
   "codemirror_mode": {
    "name": "ipython",
    "version": 3
   },
   "file_extension": ".py",
   "mimetype": "text/x-python",
   "name": "python",
   "nbconvert_exporter": "python",
   "pygments_lexer": "ipython3",
   "version": "3.11.11"
  }
 },
 "nbformat": 4,
 "nbformat_minor": 2
}
